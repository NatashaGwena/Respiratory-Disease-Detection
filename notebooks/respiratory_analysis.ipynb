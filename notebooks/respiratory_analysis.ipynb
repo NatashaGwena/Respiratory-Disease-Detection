{
 "cells": [
  {
   "cell_type": "code",
   "execution_count": 1,
   "metadata": {},
   "outputs": [],
   "source": [
    "#by Natasha\n",
    "import pandas as pd\n"
   ]
  }
 ],
 "metadata": {
  "interpreter": {
   "hash": "5780fbf496fac354ec2e57f8bd5a87b016fdc46f6b2cf6e2544f4ae0f015691d"
  },
  "kernelspec": {
   "display_name": "Python 3.9.7 64-bit",
   "name": "python3"
  },
  "language_info": {
   "codemirror_mode": {
    "name": "ipython",
    "version": 3
   },
   "file_extension": ".py",
   "mimetype": "text/x-python",
   "name": "python",
   "nbconvert_exporter": "python",
   "pygments_lexer": "ipython3",
   "version": "3.9.0"
  },
  "orig_nbformat": 4
 },
 "nbformat": 4,
 "nbformat_minor": 2
}
